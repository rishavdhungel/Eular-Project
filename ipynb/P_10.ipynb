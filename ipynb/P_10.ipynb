{
 "cells": [
  {
   "cell_type": "markdown",
   "id": "66666a22-f202-4c67-93e9-c1e1054e3bbc",
   "metadata": {},
   "source": [
    "# Problem 10: Summation of primes\n",
    "\n",
    "The sum of the primes below 10 is 2 + 3 + 5 + 7 = 17.\n",
    "\n",
    "Find the sum of all the primes below `n`.\n",
    "**Test**\n",
    ">1. primeSummation(17) should return a number.\n",
    ">2. primeSummation(17) should return 41.\n",
    ">3. primeSummation(2001) should return 277050.\n",
    ">4. primeSummation(140759) should return 873608362.\n",
    ">5. primeSummation(2000000) should return 142913828922."
   ]
  },
  {
   "cell_type": "code",
   "execution_count": 1,
   "id": "219124a5-b033-4d2a-9dce-385a9e89ef4a",
   "metadata": {},
   "outputs": [],
   "source": [
    "#checking the function to check if the number is prime\n",
    "def is_prime(number):\n",
    "    if number <=1:\n",
    "        return False\n",
    "    else:\n",
    "        for i in range(2,number):\n",
    "            if number % i == 0:\n",
    "                return False\n",
    "        return True\n",
    "    "
   ]
  },
  {
   "cell_type": "code",
   "execution_count": 2,
   "id": "c67650a9-138f-4108-bd66-30cc2d8b5788",
   "metadata": {},
   "outputs": [
    {
     "data": {
      "text/plain": [
       "True"
      ]
     },
     "execution_count": 2,
     "metadata": {},
     "output_type": "execute_result"
    }
   ],
   "source": [
    "is_prime(11)"
   ]
  },
  {
   "cell_type": "code",
   "execution_count": 3,
   "id": "9ac2fec4-93e4-4ca4-943d-928ea9bdf277",
   "metadata": {},
   "outputs": [
    {
     "data": {
      "text/plain": [
       "False"
      ]
     },
     "execution_count": 3,
     "metadata": {},
     "output_type": "execute_result"
    }
   ],
   "source": [
    "is_prime(10)"
   ]
  },
  {
   "cell_type": "code",
   "execution_count": 8,
   "id": "f6bef499-84b0-4fcb-8a8a-10375e234c05",
   "metadata": {},
   "outputs": [],
   "source": [
    "def n_primes(n):\n",
    "    # count = 0\n",
    "    index = 2\n",
    "    # primes = []\n",
    "    sum = 0\n",
    "    while(index < n):\n",
    "        if is_prime(index):\n",
    "            # primes.append(index)\n",
    "            # count += 1\n",
    "            sum += index\n",
    "        index += 1\n",
    "    # print(primes)\n",
    "    # print(sum)\n",
    "    return sum\n",
    "        \n",
    "        \n"
   ]
  },
  {
   "cell_type": "code",
   "execution_count": 9,
   "id": "56a5103f-04bf-45b3-8fc1-f7ad68e84f28",
   "metadata": {},
   "outputs": [
    {
     "data": {
      "text/plain": [
       "41"
      ]
     },
     "execution_count": 9,
     "metadata": {},
     "output_type": "execute_result"
    }
   ],
   "source": [
    "n_primes(17)"
   ]
  },
  {
   "cell_type": "code",
   "execution_count": 10,
   "id": "cfd524b0-f414-4ade-8528-320effc500c7",
   "metadata": {},
   "outputs": [],
   "source": [
    "#lets write tests\n",
    "def test_sum_n_primes():\n",
    "    assert n_primes(17) == 41, \"should return 41\"\n",
    "    assert n_primes(2001) == 277050, \"should return 277050\"\n",
    "    assert n_primes(140759) == 873608362, \"should return 873608362\"\n",
    "    print(\"Everything Passed!\")\n",
    "    "
   ]
  },
  {
   "cell_type": "code",
   "execution_count": 11,
   "id": "b8ed36d3-dc3a-482b-9569-252b2035a586",
   "metadata": {},
   "outputs": [
    {
     "name": "stdout",
     "output_type": "stream",
     "text": [
      "Everything Passed!\n"
     ]
    }
   ],
   "source": [
    "test_sum_n_primes()"
   ]
  },
  {
   "cell_type": "code",
   "execution_count": null,
   "id": "ea3a1c09-9b6e-4dc5-80e6-b34a4fefcc29",
   "metadata": {},
   "outputs": [],
   "source": []
  }
 ],
 "metadata": {
  "kernelspec": {
   "display_name": "Python 3 (ipykernel)",
   "language": "python",
   "name": "python3"
  },
  "language_info": {
   "codemirror_mode": {
    "name": "ipython",
    "version": 3
   },
   "file_extension": ".py",
   "mimetype": "text/x-python",
   "name": "python",
   "nbconvert_exporter": "python",
   "pygments_lexer": "ipython3",
   "version": "3.11.7"
  }
 },
 "nbformat": 4,
 "nbformat_minor": 5
}
