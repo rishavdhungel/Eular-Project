{
 "cells": [
  {
   "cell_type": "markdown",
   "id": "25e977ca-eb05-4cf0-a374-76be59802f9b",
   "metadata": {},
   "source": [
    "# Problem 5: Smallest multiple\n",
    "\n",
    "2520 is the smallest number that can be divided by each of the numbers from 1 to 10 without any remainder.\n",
    "\n",
    "What is the smallest positive number that is evenly divisible by all of the numbers from 1 to n?\n",
    "\n",
    "**Tests**\n",
    ">1. smallestMult(5) should return a number.\n",
    ">2. smallestMult(5) should return 60.\n",
    ">3. smallestMult(7) should return 420.\n",
    ">4. smallestMult(10) should return 2520.\n",
    ">5. smallestMult(13) should return 360360.\n",
    ">6. smallestMult(20) should return 232792560."
   ]
  },
  {
   "cell_type": "markdown",
   "id": "97b32080-6c04-4146-a17d-8bb44b65b79d",
   "metadata": {},
   "source": [
    "# Approach towards the problem\n",
    "we are given a  statement that 2520 is the smallest number that can be divided from 1 to 10. So firstly lets have a look at it"
   ]
  },
  {
   "cell_type": "code",
   "execution_count": 1,
   "id": "4f575397-643c-4c15-9b4c-5c33808c2b56",
   "metadata": {
    "tags": []
   },
   "outputs": [
    {
     "name": "stdout",
     "output_type": "stream",
     "text": [
      "2520.0\n",
      "1260.0\n",
      "840.0\n",
      "630.0\n",
      "504.0\n",
      "420.0\n",
      "360.0\n",
      "315.0\n",
      "280.0\n",
      "252.0\n"
     ]
    }
   ],
   "source": [
    "n = 2520\n",
    "for i in range (1, 11):\n",
    "    print(n /i)\n",
    "        "
   ]
  },
  {
   "cell_type": "code",
   "execution_count": 2,
   "id": "5ae07b1e-6267-4f0f-aa39-31395bd8e746",
   "metadata": {
    "tags": []
   },
   "outputs": [],
   "source": [
    "#creating a function to check if the number is divisible 1 to 11 or not\n",
    "def is_divisible(number, n):\n",
    "    for i in range(2,n+1):\n",
    "        if(number % i != 0):\n",
    "            return False\n",
    "    return True"
   ]
  },
  {
   "cell_type": "code",
   "execution_count": 3,
   "id": "0d118ac9-ae67-4571-9446-5ff347026926",
   "metadata": {
    "tags": []
   },
   "outputs": [
    {
     "data": {
      "text/plain": [
       "True"
      ]
     },
     "execution_count": 3,
     "metadata": {},
     "output_type": "execute_result"
    }
   ],
   "source": [
    "is_divisible(2520,10)"
   ]
  },
  {
   "cell_type": "code",
   "execution_count": 4,
   "id": "26c70d9c-beb8-4a8e-b0ca-ee4214c47d68",
   "metadata": {
    "tags": []
   },
   "outputs": [],
   "source": [
    "number = 1\n",
    "while True:\n",
    "    if is_divisible(number,10):\n",
    "        break\n",
    "    number += 1"
   ]
  },
  {
   "cell_type": "code",
   "execution_count": 5,
   "id": "c6c2ab0d-0a74-4305-84c8-bc08da4e1f0f",
   "metadata": {
    "tags": []
   },
   "outputs": [
    {
     "name": "stdout",
     "output_type": "stream",
     "text": [
      "2520\n"
     ]
    }
   ],
   "source": [
    "print(number)"
   ]
  },
  {
   "cell_type": "markdown",
   "id": "220a2ab7-afbc-4a4f-8661-3cc8a65f0a69",
   "metadata": {},
   "source": [
    "As far as now we are good but lets implement the concept for nth value"
   ]
  },
  {
   "cell_type": "code",
   "execution_count": 6,
   "id": "e00bac0d-54d0-4f39-9552-77322de2faaa",
   "metadata": {
    "tags": []
   },
   "outputs": [],
   "source": [
    "def smallest_mult(n):\n",
    "    number = 2\n",
    "    while True:\n",
    "        if is_divisible(number, n):\n",
    "            break\n",
    "        number += 2\n",
    "    return number"
   ]
  },
  {
   "cell_type": "code",
   "execution_count": 7,
   "id": "a7232d59-69df-4524-a915-c9fd759592ce",
   "metadata": {
    "tags": []
   },
   "outputs": [
    {
     "data": {
      "text/plain": [
       "60"
      ]
     },
     "execution_count": 7,
     "metadata": {},
     "output_type": "execute_result"
    }
   ],
   "source": [
    "smallest_mult(5)"
   ]
  },
  {
   "cell_type": "markdown",
   "id": "c8e0a66f-7e47-4b73-ad3c-6c72d7be1c6d",
   "metadata": {},
   "source": [
    "Now lets verify with the test cases"
   ]
  },
  {
   "cell_type": "code",
   "execution_count": 8,
   "id": "af0e5288-865c-476b-b4c6-f6ea34a8737b",
   "metadata": {
    "tags": []
   },
   "outputs": [],
   "source": [
    "def test_smallest_mult():\n",
    "    assert smallest_mult(5) == 60,\"should return 60.\"\n",
    "    assert smallest_mult(7) == 420,\"should return 420.\"\n",
    "    assert smallest_mult(10) == 2520,\"should return 2520.\"\n",
    "    assert smallest_mult(13) == 360360,\"should return 360360.\"\n",
    "    assert smallest_mult(20) == 232792560,\"should return 232792560.\"\n",
    "    print(\"Everything Passed!!\")"
   ]
  },
  {
   "cell_type": "code",
   "execution_count": 9,
   "id": "48285978-ebfb-42b6-810d-5570587df498",
   "metadata": {
    "tags": []
   },
   "outputs": [
    {
     "name": "stdout",
     "output_type": "stream",
     "text": [
      "Everything Passed!!\n"
     ]
    }
   ],
   "source": [
    "test_smallest_mult()"
   ]
  },
  {
   "cell_type": "code",
   "execution_count": null,
   "id": "42e00002-9735-4150-a57e-929ec689f78a",
   "metadata": {},
   "outputs": [],
   "source": []
  }
 ],
 "metadata": {
  "kernelspec": {
   "display_name": "Python 3 (ipykernel)",
   "language": "python",
   "name": "python3"
  },
  "language_info": {
   "codemirror_mode": {
    "name": "ipython",
    "version": 3
   },
   "file_extension": ".py",
   "mimetype": "text/x-python",
   "name": "python",
   "nbconvert_exporter": "python",
   "pygments_lexer": "ipython3",
   "version": "3.11.5"
  }
 },
 "nbformat": 4,
 "nbformat_minor": 5
}
