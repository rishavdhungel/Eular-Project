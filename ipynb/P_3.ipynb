{
 "cells": [
  {
   "cell_type": "markdown",
   "id": "c1e2be22-bc14-41bf-b13a-28ca04d2b19b",
   "metadata": {},
   "source": [
    "# Problem 3: Largest prime factor\n",
    "\n",
    "**Problem Statement**\n",
    "The prime factors of 13195 are 5, 7, 13 and 29.\n",
    "\n",
    "What is the largest prime factor of the given number?\n",
    "\n",
    "**Tests**\n",
    ">1. largestPrimeFactor(2) should return a number.\n",
    ">2. largestPrimeFactor(2) should return 2.\n",
    ">3. largestPrimeFactor(3) should return 3.\n",
    ">4. largestPrimeFactor(5) should return 5.\n",
    ">5. largestPrimeFactor(7) should return 7.\n",
    ">6. largestPrimeFactor(8) should return 2.\n",
    ">7. largestPrimeFactor(13195) should return 29.\n",
    ">8. largestPrimeFactor(600851475143) should return 6857."
   ]
  },
  {
   "cell_type": "markdown",
   "id": "395b61d5-9ed8-42da-8bcb-96608b3c891e",
   "metadata": {},
   "source": [
    "# Approach towards the problem\n",
    "\n",
    "The problem statement is very brief and the key term in the statement is `prime factor`. Suppose we happen to be outsiders to the concept of the `prime factor`. Firstly we need to figure out what does it mean and proceed towards reformulation the statement in our own words.\n",
    "\n",
    "By googling the term `what is prime factors?` we get the following answer:\n",
    ">`A prime factor is a natural number, other than 1, whose only factors are 1 and itself.`\n",
    "\n",
    "suppose this also does not help you much, now your head is itching over what even `factor` is? To address this itch we repeat the above process we again google `what is factor?` and the answer we get is:\n",
    "\n",
    ">`In math, a factor is a number that can be multiplied or divided to produce a given number. e.g 5 and 8 are factors of 40.`\n",
    "\n",
    "The problem here is that we will be given a number and we are required to calculate the largest prime factor. Lets divide the problem into three parts:\n",
    "1. find factors\n",
    "2. find prime factors\n",
    "3. figure out the largest prime factor"
   ]
  },
  {
   "cell_type": "code",
   "execution_count": 1,
   "id": "997114c0-664d-435d-94c1-92f7224d9bef",
   "metadata": {
    "tags": []
   },
   "outputs": [],
   "source": [
    "#input is given\n",
    "#start from 1 and go all the way to the given number\n",
    "#append the list of value if it is a factor\n",
    "def factor(number):\n",
    "    factor_list = []\n",
    "    for num in range(1, number+1):\n",
    "        if(number%num == 0):\n",
    "            factor_list.append(num)\n",
    "    return factor_list"
   ]
  },
  {
   "cell_type": "code",
   "execution_count": 2,
   "id": "a64d8d10-620e-4ed2-a914-d7b60dad6ae6",
   "metadata": {
    "tags": []
   },
   "outputs": [
    {
     "data": {
      "text/plain": [
       "[1, 2, 4, 5, 8, 10, 20, 25, 40, 50, 100, 125, 200, 250, 500, 1000]"
      ]
     },
     "execution_count": 2,
     "metadata": {},
     "output_type": "execute_result"
    }
   ],
   "source": [
    "factor(1000)"
   ]
  },
  {
   "cell_type": "code",
   "execution_count": 3,
   "id": "e5970d44-2847-4707-a2d2-5e6f29afc9f6",
   "metadata": {
    "tags": []
   },
   "outputs": [
    {
     "data": {
      "text/plain": [
       "[1, 5, 7, 13, 29, 35, 65, 91, 145, 203, 377, 455, 1015, 1885, 2639, 13195]"
      ]
     },
     "execution_count": 3,
     "metadata": {},
     "output_type": "execute_result"
    }
   ],
   "source": [
    "factor(13195)"
   ]
  },
  {
   "cell_type": "markdown",
   "id": "5b104156-5fce-4375-91cf-d2246b29cf26",
   "metadata": {},
   "source": [
    "Since we are using `for loop` and jumping one number at a time it takes long time to process the big number such as `600851475143`.\n",
    "\n",
    "Now let's move towards the second category `i.e find the prime factors`  but before that lets figure out how to find out weather or not the given number is `prime`."
   ]
  },
  {
   "cell_type": "code",
   "execution_count": 4,
   "id": "ccc75cbc-76c8-46c9-ada7-d3711d9ce8a1",
   "metadata": {
    "tags": []
   },
   "outputs": [],
   "source": [
    "#function that check if the number is prime or not\n",
    "def is_prime(number):\n",
    "    if (number <=1):\n",
    "        return False\n",
    "    else:\n",
    "        for num in range(2,number):\n",
    "            if number % num == 0:\n",
    "                return False\n",
    "        return True\n"
   ]
  },
  {
   "cell_type": "code",
   "execution_count": 5,
   "id": "dd537b83-4c95-4eb5-8502-3a62d7f35dd2",
   "metadata": {
    "tags": []
   },
   "outputs": [
    {
     "name": "stdout",
     "output_type": "stream",
     "text": [
      "True\n",
      "False\n",
      "True\n"
     ]
    }
   ],
   "source": [
    "print(is_prime(13))\n",
    "print(is_prime(15))\n",
    "print(is_prime(11))"
   ]
  },
  {
   "cell_type": "markdown",
   "id": "820b4e4e-b23d-44e2-9e7a-e08bdb3afb1c",
   "metadata": {},
   "source": [
    "Now lets use `factor` function to generate the factors and use `is_prime` function to extract the prime factors"
   ]
  },
  {
   "cell_type": "code",
   "execution_count": 6,
   "id": "c2118069-f817-45ed-bef2-eead0550fc6c",
   "metadata": {
    "tags": []
   },
   "outputs": [
    {
     "name": "stdout",
     "output_type": "stream",
     "text": [
      "[1, 2, 4, 5, 8, 10, 20, 25, 40, 50, 100, 125, 200, 250, 500, 1000]\n",
      "[1, 5, 7, 13, 29, 35, 65, 91, 145, 203, 377, 455, 1015, 1885, 2639, 13195]\n"
     ]
    }
   ],
   "source": [
    "#storing the factor values in list\n",
    "factor_1000 = factor(1000)\n",
    "factor_13195 = factor(13195)\n",
    "print(factor_1000)\n",
    "print(factor_13195)"
   ]
  },
  {
   "cell_type": "code",
   "execution_count": 7,
   "id": "8d8402bc-cab5-439c-a47b-f3c3c7db9198",
   "metadata": {
    "tags": []
   },
   "outputs": [],
   "source": [
    "def extract_pime_factors(factor_list):\n",
    "    prime_factor_list = []\n",
    "    for item in factor_list:\n",
    "        if is_prime(item) == True:\n",
    "            prime_factor_list.append(item)\n",
    "    return prime_factor_list            "
   ]
  },
  {
   "cell_type": "code",
   "execution_count": 8,
   "id": "37be9813-22d5-48b7-b059-aeafe2ca4afe",
   "metadata": {
    "tags": []
   },
   "outputs": [
    {
     "name": "stdout",
     "output_type": "stream",
     "text": [
      "[2, 5]\n"
     ]
    }
   ],
   "source": [
    "print(extract_pime_factors(factor_1000))"
   ]
  },
  {
   "cell_type": "code",
   "execution_count": 9,
   "id": "bda2afb2-36c2-4828-8877-c211160f0d7f",
   "metadata": {
    "tags": []
   },
   "outputs": [
    {
     "name": "stdout",
     "output_type": "stream",
     "text": [
      "[5, 7, 13, 29]\n"
     ]
    }
   ],
   "source": [
    "print(extract_pime_factors(factor_13195))"
   ]
  },
  {
   "cell_type": "markdown",
   "id": "06031eb9-a31b-40c6-bf47-3e2fe2571e37",
   "metadata": {},
   "source": [
    "Now to extract max value out of the list we could simply use `max` built in method"
   ]
  },
  {
   "cell_type": "code",
   "execution_count": 10,
   "id": "6d560efc-65f2-4863-9fbd-225892981102",
   "metadata": {
    "tags": []
   },
   "outputs": [
    {
     "data": {
      "text/plain": [
       "29"
      ]
     },
     "execution_count": 10,
     "metadata": {},
     "output_type": "execute_result"
    }
   ],
   "source": [
    "max(extract_pime_factors(factor_13195))"
   ]
  },
  {
   "cell_type": "markdown",
   "id": "4df142e2-6123-4556-9ecb-c15a06e7de38",
   "metadata": {},
   "source": [
    "# Final Implementation"
   ]
  },
  {
   "cell_type": "markdown",
   "id": "b3103f1d-3c2a-4d77-b142-c7b0e5c095eb",
   "metadata": {},
   "source": [
    "The method we followed till date is not very efficient way to tackle the problem there must be some smarter way, and after googling I was able to find good resources explaining the concept:\n",
    ">[Prime Factorization | Math with Mr. J](https://www.youtube.com/watch?v=XBnUWjo3TgM)\n",
    "\n",
    "What we do is divide the number further down to the point where is no longer divisible by any other number but itself. Lets write a pseudocode for it.\n",
    "\n",
    "1. `initialize` a number (start at 2)\n",
    "2. divide the number by the `initialized number`\n",
    "3. if the number is still divisible by the `initialized number` then continue dividing further.\n",
    "4. if the number is not divisible by the `initialized number` then increase the `initialized number` by 1 and repeat the process till the initialized value reaches the `input_number`"
   ]
  },
  {
   "cell_type": "code",
   "execution_count": 11,
   "id": "66579bc5-bece-4dd5-8ea6-566b6906b95c",
   "metadata": {
    "tags": []
   },
   "outputs": [],
   "source": [
    "def largest_prime_factor(number):\n",
    "    initialized_value = 2\n",
    "    while(initialized_value < number):\n",
    "        if (number % initialized_value == 0):\n",
    "            number = number // initialized_value\n",
    "        else:\n",
    "            initialized_value += 1\n",
    "            \n",
    "    return number\n",
    "            "
   ]
  },
  {
   "cell_type": "markdown",
   "id": "82145bec-d962-4d7a-8165-65be4d9a93d1",
   "metadata": {},
   "source": [
    "Now lets verify with all the test cases"
   ]
  },
  {
   "cell_type": "code",
   "execution_count": 12,
   "id": "02fc818d-466d-44d6-b781-7592a8c0bcb4",
   "metadata": {
    "tags": []
   },
   "outputs": [],
   "source": [
    "def test_largest_prime():\n",
    "    assert largest_prime_factor(2) == 2 , \"should return 2\"\n",
    "    assert largest_prime_factor(3) == 3 , \"should return 3\"\n",
    "    assert largest_prime_factor(5) == 5 , \"should return 5\"\n",
    "    assert largest_prime_factor(7) == 7 , \"should return 7\"\n",
    "    assert largest_prime_factor(8) == 2 , \"should return 2\"\n",
    "    assert largest_prime_factor(13195) == 29 , \"should return 29\"\n",
    "    assert largest_prime_factor(600851475143) == 6857 , \"should return 6857\"\n",
    "    print(\"Everything Passed!!\")\n",
    "    "
   ]
  },
  {
   "cell_type": "code",
   "execution_count": 13,
   "id": "ab55ecd3-730d-4d55-9770-a4eae203f64b",
   "metadata": {
    "tags": []
   },
   "outputs": [
    {
     "name": "stdout",
     "output_type": "stream",
     "text": [
      "Everything Passed!!\n"
     ]
    }
   ],
   "source": [
    "test_largest_prime()"
   ]
  }
 ],
 "metadata": {
  "kernelspec": {
   "display_name": "Python 3 (ipykernel)",
   "language": "python",
   "name": "python3"
  },
  "language_info": {
   "codemirror_mode": {
    "name": "ipython",
    "version": 3
   },
   "file_extension": ".py",
   "mimetype": "text/x-python",
   "name": "python",
   "nbconvert_exporter": "python",
   "pygments_lexer": "ipython3",
   "version": "3.11.5"
  }
 },
 "nbformat": 4,
 "nbformat_minor": 5
}
