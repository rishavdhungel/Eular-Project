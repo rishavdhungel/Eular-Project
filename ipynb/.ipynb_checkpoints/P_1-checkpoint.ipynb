{
 "cells": [
  {
   "cell_type": "markdown",
   "id": "b4c6ec94-b072-49ee-8893-ab848ee28bba",
   "metadata": {
    "tags": []
   },
   "source": [
    "# Problem 1: Multiples of 3 or 5\n",
    "\n",
    "**Problem Statement** <br>\n",
    "If we list all the natural numbers below 10 that are multiples of 3 or 5, we get 3, 5, 6 and 9. The sum of these multiples is 23.\n",
    "\n",
    "Find the sum of all the multiples of 3 or 5 below the provided parameter value number.\n",
    "\n",
    "**Test Cases**\n",
    "1. function(10) should return a number.\n",
    "2. function(49) should return 543.\n",
    "3. function(1000) should return 233168.\n",
    "4. function(8456) should return 16687353.\n",
    "5. function(19564) should return 89301183.\n",
    "\n",
    ">*Goal: The aim here is to write a function addressing the problem statement and also to write a test for measuring the accurracy of the function we implemented.*"
   ]
  },
  {
   "cell_type": "markdown",
   "id": "c0c3e326-79a1-4e3b-8e56-3bd58ae97933",
   "metadata": {},
   "source": [
    "## Approach towards the problem\n",
    "As a someone just starting out its very tempting to go straight to the keyboard and start bruteforcing the problem without throughly going through it. But there are well established rules to tackle this types of issues. For this we will stick to major four principles of problem solving ([George Polya](https://en.wikipedia.org/wiki/How_to_Solve_It))\n",
    ">1. Understand the problem\n",
    ">2. Make a plan\n",
    ">3. Carry out the plan\n",
    ">4. Look back and improve your solution\n",
    "\n",
    "`Restating the problem statement (Understand the problem)`\n",
    ">we need to process a list of natural numbers [(1,2,3...)](https://en.wikipedia.org/wiki/Natural_number) and identify if the numbers are multiples of 3 or 5 and need to calculate the sum of the numbers which meets the required condition (multiples of 3 or 5). The range will be taken as user input.\n",
    "\n",
    "`Writing Pseudocode (make a plan)`\n",
    ">1. take the range for the natural number.\n",
    ">2. create a counter variable to store the sum (initialize it at 0).\n",
    ">3. iterate over the number starting from 0 to range (excluding the upper range).\n",
    ">4. for each value check if the number is either multiple of 3 or 5.\n",
    ">5. if the value is multiple of 3 or 5 then add the value to the counter variable.\n",
    ">6. if the value is not the multiple of 3 or 5 then jump to next value to check for the condition.\n",
    ">7. if all values are checked then return the total sum."
   ]
  },
  {
   "cell_type": "code",
   "execution_count": 4,
   "id": "dfde6509-c4fa-422d-8a8f-a63c29451dbd",
   "metadata": {
    "tags": []
   },
   "outputs": [
    {
     "name": "stdout",
     "output_type": "stream",
     "text": [
      "23\n"
     ]
    }
   ],
   "source": [
    "#Lets translate the pseudocode to the python code ( Carry our the plan)\n",
    "def multiple_of_3or5(number):\n",
    "    total_sum = 0\n",
    "    for item in range(0,number):\n",
    "        if ((item % 3 == 0) or (item % 5 == 0)):\n",
    "            total_sum += item\n",
    "        else:\n",
    "            continue\n",
    "    return total_sum\n",
    "\n",
    "print(multiple_of_3or5(10))"
   ]
  },
  {
   "cell_type": "markdown",
   "id": "fa1fc58b-b0d0-4479-86cd-365da5e18fce",
   "metadata": {
    "tags": []
   },
   "source": [
    "The above translation of pseudocode to python seems to be working fine when tested with the range as 10 and as given in problem statement it match the answer provided which is 23. But user might provide us any random range, its necessary to make sure that our code produce the correct answer for the user supplied input."
   ]
  },
  {
   "cell_type": "code",
   "execution_count": 5,
   "id": "fdea061a-4ee2-49aa-979a-97b9870ba467",
   "metadata": {
    "tags": []
   },
   "outputs": [],
   "source": [
    "#writing test\n",
    "number_list = [10, 49, 1000, 8456, 19564]\n",
    "def verify_multiple_of_3or5():\n",
    "    assert multiple_of_3or5(10) == 23, \"should be 23\"\n",
    "    assert multiple_of_3or5(49) == 543, \"should be 543\"\n",
    "    assert multiple_of_3or5(1000) == 233168, \"should be 233168\"\n",
    "    assert multiple_of_3or5(8456) == 16687353, 'should be 16687353'        \n",
    "    assert multiple_of_3or5(19564) == 89301183, 'should be 89301183 '\n",
    "    print(\"Everything Passed\")\n",
    "    "
   ]
  },
  {
   "cell_type": "code",
   "execution_count": 6,
   "id": "4e570d15-90ce-44f9-9f84-510219b45c1b",
   "metadata": {
    "tags": []
   },
   "outputs": [
    {
     "name": "stdout",
     "output_type": "stream",
     "text": [
      "Everything Passed\n"
     ]
    }
   ],
   "source": [
    "verify_multiple_of_3or5()"
   ]
  },
  {
   "cell_type": "markdown",
   "id": "d9706fbc-d051-40a0-824f-bd749adfabcf",
   "metadata": {},
   "source": [
    "We have successfully translated the problem statement to working python code in a systematic approach used in problem solving."
   ]
  }
 ],
 "metadata": {
  "kernelspec": {
   "display_name": "Python 3 (ipykernel)",
   "language": "python",
   "name": "python3"
  },
  "language_info": {
   "codemirror_mode": {
    "name": "ipython",
    "version": 3
   },
   "file_extension": ".py",
   "mimetype": "text/x-python",
   "name": "python",
   "nbconvert_exporter": "python",
   "pygments_lexer": "ipython3",
   "version": "3.11.5"
  }
 },
 "nbformat": 4,
 "nbformat_minor": 5
}
