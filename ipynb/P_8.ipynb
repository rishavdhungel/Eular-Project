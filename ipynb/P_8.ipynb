{
 "cells": [
  {
   "cell_type": "markdown",
   "id": "1ea2b93e-011a-45e7-b834-0fe098519cf9",
   "metadata": {},
   "source": [
    "# Problem 8: Largest product in a series\n",
    "**Problem Statement**\n",
    "\n",
    "The four adjacent digits in the 1000-digit number that have the greatest product are 9 × 9 × 8 × 9 = 5832.\n",
    "\n",
    "73167176531330624919225119674426574742355349194934\n",
    "96983520312774506326239578318016984801869478851843\n",
    "85861560789112949495459501737958331952853208805511\n",
    "12540698747158523863050715693290963295227443043557\n",
    "66896648950445244523161731856403098711121722383113\n",
    "62229893423380308135336276614282806444486645238749\n",
    "30358907296290491560440772390713810515859307960866\n",
    "70172427121883998797908792274921901699720888093776\n",
    "65727333001053367881220235421809751254540594752243\n",
    "52584907711670556013604839586446706324415722155397\n",
    "53697817977846174064955149290862569321978468622482\n",
    "83972241375657056057490261407972968652414535100474\n",
    "82166370484403199890008895243450658541227588666881\n",
    "16427171479924442928230863465674813919123162824586\n",
    "17866458359124566529476545682848912883142607690042\n",
    "24219022671055626321111109370544217506941658960408\n",
    "07198403850962455444362981230987879927244284909188\n",
    "84580156166097919133875499200524063689912560717606\n",
    "05886116467109405077541002256983155200055935729725\n",
    "71636269561882670428252483600823257530420752963450\n",
    "\n",
    "Find the n adjacent digits in the 1000-digit number that have the greatest product. What is the value of this product?\n"
   ]
  },
  {
   "cell_type": "code",
   "execution_count": 1,
   "id": "0d9c7e07-43ef-40ba-ac99-5356abc91a8f",
   "metadata": {
    "tags": []
   },
   "outputs": [],
   "source": [
    "#given numbers\n",
    "given_numbers = \"73167176531330624919225119674426574742355349194934 96983520312774506326239578318016984801869478851843 85861560789112949495459501737958331952853208805511 12540698747158523863050715693290963295227443043557 66896648950445244523161731856403098711121722383113 62229893423380308135336276614282806444486645238749 30358907296290491560440772390713810515859307960866 70172427121883998797908792274921901699720888093776 65727333001053367881220235421809751254540594752243 52584907711670556013604839586446706324415722155397 53697817977846174064955149290862569321978468622482 83972241375657056057490261407972968652414535100474 82166370484403199890008895243450658541227588666881 16427171479924442928230863465674813919123162824586 17866458359124566529476545682848912883142607690042 24219022671055626321111109370544217506941658960408 07198403850962455444362981230987879927244284909188 84580156166097919133875499200524063689912560717606 05886116467109405077541002256983155200055935729725 71636269561882670428252483600823257530420752963450\"\n",
    "#translating them to list\n",
    "number_list = []\n",
    "for number in given_numbers:\n",
    "    if(number != ' '):\n",
    "        number_list.append(int(number)) #without int() conversion the stored value will be str type and cannot be used for calculation"
   ]
  },
  {
   "cell_type": "code",
   "execution_count": 2,
   "id": "893255fb-800e-4b4c-9641-4c072459cc6d",
   "metadata": {
    "tags": []
   },
   "outputs": [
    {
     "data": {
      "text/plain": [
       "1000"
      ]
     },
     "execution_count": 2,
     "metadata": {},
     "output_type": "execute_result"
    }
   ],
   "source": [
    "len(number_list)"
   ]
  },
  {
   "cell_type": "code",
   "execution_count": 3,
   "id": "b5a38cf4-7fb4-43ef-a72c-317b2e67b0ef",
   "metadata": {
    "tags": []
   },
   "outputs": [],
   "source": [
    "#now lets create a function that will return product of the number list passed\n",
    "def product(number_list):\n",
    "    counter = 1\n",
    "    for item in number_list:\n",
    "        counter *= item\n",
    "    return counter"
   ]
  },
  {
   "cell_type": "code",
   "execution_count": 4,
   "id": "531249f6-fcc5-4d7b-84ec-d947017a77e6",
   "metadata": {
    "tags": []
   },
   "outputs": [
    {
     "data": {
      "text/plain": [
       "5832"
      ]
     },
     "execution_count": 4,
     "metadata": {},
     "output_type": "execute_result"
    }
   ],
   "source": [
    "product([9,9,8,9])"
   ]
  },
  {
   "cell_type": "markdown",
   "id": "6270508a-40c2-4e2f-9295-394367d808e3",
   "metadata": {},
   "source": [
    "lets write a different version of the product calculation"
   ]
  },
  {
   "cell_type": "code",
   "execution_count": 5,
   "id": "168071fa-f3ba-42be-8129-91cd3fb71ed3",
   "metadata": {
    "tags": []
   },
   "outputs": [],
   "source": [
    "def new_product(number_list,index, n):\n",
    "    product = 1\n",
    "    counter = index + n\n",
    "    for num in range(index, counter):\n",
    "        product *= number_list[num]\n",
    "    print(product)"
   ]
  },
  {
   "cell_type": "code",
   "execution_count": 6,
   "id": "6b7d9edf-2200-40c5-8b6d-68894e1ee957",
   "metadata": {
    "tags": []
   },
   "outputs": [
    {
     "name": "stdout",
     "output_type": "stream",
     "text": [
      "120\n"
     ]
    }
   ],
   "source": [
    "test_list = [1,2,3,4,5,6,7,8,9,10]\n",
    "new_product(test_list,0,5)"
   ]
  },
  {
   "cell_type": "markdown",
   "id": "6b41799b-c652-4e7b-96ed-5d4137f2ed5d",
   "metadata": {},
   "source": [
    "Here we get the product of first five number and if we change the counter and index to different value we should be able to get product of differnet range lets use `5` as index"
   ]
  },
  {
   "cell_type": "code",
   "execution_count": 7,
   "id": "1e9d2813-a13b-447d-bd21-87f5388a83f0",
   "metadata": {
    "tags": []
   },
   "outputs": [
    {
     "name": "stdout",
     "output_type": "stream",
     "text": [
      "30240\n"
     ]
    }
   ],
   "source": [
    "new_product(test_list,5,5)"
   ]
  },
  {
   "cell_type": "markdown",
   "id": "90cf339e-8e39-412f-b1c4-375348c80780",
   "metadata": {},
   "source": [
    "now what we need to do is keep generating the product within the supplied range and make a list of it until we run out of number"
   ]
  },
  {
   "cell_type": "code",
   "execution_count": 8,
   "id": "37478af1-6f07-4164-ad08-94c67bc5a20e",
   "metadata": {
    "tags": []
   },
   "outputs": [],
   "source": [
    "def generate_product(number_list,index, n):\n",
    "    product = 1\n",
    "    counter = index + n\n",
    "    if(counter < 1000):\n",
    "        for num in range(index, counter):\n",
    "            product *= number_list[num]\n",
    "    return product"
   ]
  },
  {
   "cell_type": "code",
   "execution_count": 9,
   "id": "dda3489f-349d-4d61-aab7-d2509cd2ea50",
   "metadata": {
    "tags": []
   },
   "outputs": [
    {
     "data": {
      "text/plain": [
       "630"
      ]
     },
     "execution_count": 9,
     "metadata": {},
     "output_type": "execute_result"
    }
   ],
   "source": [
    "generate_product(number_list,5,5)"
   ]
  },
  {
   "cell_type": "code",
   "execution_count": 10,
   "id": "4861546e-d24e-4825-9cec-e5090dd57a8d",
   "metadata": {
    "tags": []
   },
   "outputs": [],
   "source": [
    "#while the index is less than 1000\n",
    "    #generate the product of numbers\n",
    "def test():\n",
    "    product_list = []\n",
    "    index = 0\n",
    "    n = 4\n",
    "    while(index < 1000):\n",
    "        product_list.append(generate_product(number_list,index,n))\n",
    "        index += n\n",
    "    return product_list\n"
   ]
  },
  {
   "cell_type": "code",
   "execution_count": 11,
   "id": "a6214a5f-1ad6-40d7-816a-5569e0830135",
   "metadata": {
    "tags": []
   },
   "outputs": [
    {
     "data": {
      "text/plain": [
       "250"
      ]
     },
     "execution_count": 11,
     "metadata": {},
     "output_type": "execute_result"
    }
   ],
   "source": [
    "len(test()) # 1000 /4 = 250"
   ]
  },
  {
   "cell_type": "markdown",
   "id": "5b828415-4e87-49fd-8cf2-5b035ed04cb2",
   "metadata": {},
   "source": [
    "Guess what happened, I just happen to misunderstood the problem. And the first task of any problem solving is to clearly define or understand the problem before trying to come out of solution, here I missed the first point that `you are supposed to iterate over all the set of number and increase the index by just 1 at a time, but for some reason my brain defaulted to the notion that we are supposed to chunk the values based on n`. Now lets try to fix it."
   ]
  },
  {
   "cell_type": "code",
   "execution_count": 12,
   "id": "b802bcd3-8731-478b-8fd8-4d291f99bb53",
   "metadata": {
    "tags": []
   },
   "outputs": [],
   "source": [
    "def largest_product_in_series(n):\n",
    "    product_list = []\n",
    "    index = 0\n",
    "    while(index < 1000):\n",
    "        product_list.append(generate_product(number_list,index,n))\n",
    "        index += 1\n",
    "    return product_list\n",
    "    \n",
    "    "
   ]
  },
  {
   "cell_type": "code",
   "execution_count": 13,
   "id": "298ea636-5f44-4b15-a42d-8f20882d9a9a",
   "metadata": {
    "tags": []
   },
   "outputs": [
    {
     "data": {
      "text/plain": [
       "1000"
      ]
     },
     "execution_count": 13,
     "metadata": {},
     "output_type": "execute_result"
    }
   ],
   "source": [
    "len(largest_product_in_series(4))"
   ]
  },
  {
   "cell_type": "code",
   "execution_count": 14,
   "id": "0063b8b9-c967-4b5d-8c51-d7896de7cc6b",
   "metadata": {
    "tags": []
   },
   "outputs": [
    {
     "data": {
      "text/plain": [
       "5832"
      ]
     },
     "execution_count": 14,
     "metadata": {},
     "output_type": "execute_result"
    }
   ],
   "source": [
    "max(largest_product_in_series(4))"
   ]
  },
  {
   "cell_type": "code",
   "execution_count": 15,
   "id": "5a478339-7f09-446a-931f-d420f9dbb9d9",
   "metadata": {
    "tags": []
   },
   "outputs": [
    {
     "data": {
      "text/plain": [
       "23514624000"
      ]
     },
     "execution_count": 15,
     "metadata": {},
     "output_type": "execute_result"
    }
   ],
   "source": [
    "max(largest_product_in_series(13))"
   ]
  },
  {
   "cell_type": "markdown",
   "id": "8428c0e5-77e0-4f13-bcc6-0a6d3edc00d0",
   "metadata": {},
   "source": [
    "There might be redunancies in the solution we just implemented and there are rooms for improvements, but for now we will leave it here."
   ]
  },
  {
   "cell_type": "code",
   "execution_count": null,
   "id": "7ec49cb1-8ff0-4e5a-a64a-40349908f841",
   "metadata": {},
   "outputs": [],
   "source": []
  }
 ],
 "metadata": {
  "kernelspec": {
   "display_name": "Python 3 (ipykernel)",
   "language": "python",
   "name": "python3"
  },
  "language_info": {
   "codemirror_mode": {
    "name": "ipython",
    "version": 3
   },
   "file_extension": ".py",
   "mimetype": "text/x-python",
   "name": "python",
   "nbconvert_exporter": "python",
   "pygments_lexer": "ipython3",
   "version": "3.11.5"
  }
 },
 "nbformat": 4,
 "nbformat_minor": 5
}
