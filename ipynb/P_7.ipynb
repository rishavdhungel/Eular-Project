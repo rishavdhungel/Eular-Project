{
 "cells": [
  {
   "cell_type": "markdown",
   "id": "0d1945d4-7106-4726-aaab-38e67bc27356",
   "metadata": {},
   "source": [
    "# Problem 7: 10001st prime\n",
    "\n",
    "By listing the first six prime numbers: 2, 3, 5, 7, 11, and 13, we can see that the 6th prime is 13.\n",
    "\n",
    "What is the nth prime number?"
   ]
  },
  {
   "cell_type": "markdown",
   "id": "663ada61-45f1-4e75-b298-bc9b521bbc9e",
   "metadata": {},
   "source": [
    "# Approach towards the problem\n",
    "If you have gone through the [Problem 3: Largest prime factor](./ipynb/P_3.ipynb) then you must be familier with the concept of the prime number.\n",
    "\n",
    "By Definition: `a prime number is a whole number greater than 1 that can only be divided by itself and 1 without leaving a remainder.`"
   ]
  },
  {
   "cell_type": "code",
   "execution_count": 61,
   "id": "52476dce-dad4-4cba-84fe-83e44ebc8e14",
   "metadata": {},
   "outputs": [],
   "source": [
    "#check if number is prime or not\n",
    "def is_prime(n):\n",
    "    if (n<=1):\n",
    "        return False\n",
    "    else:\n",
    "        for i in range(2,n):\n",
    "            if n % i == 0:\n",
    "                return False\n",
    "        return True"
   ]
  },
  {
   "cell_type": "code",
   "execution_count": 62,
   "id": "d46e9304-6633-4df2-a438-d7c5a24a79e2",
   "metadata": {},
   "outputs": [],
   "source": [
    "def nth_primes(n):\n",
    "    num_of_primes = 0\n",
    "    prime = 1 \n",
    "    while num_of_primes < n:\n",
    "        prime += 1\n",
    "        if is_prime(prime):\n",
    "            num_of_primes  += 1\n",
    "    return prime"
   ]
  },
  {
   "cell_type": "code",
   "execution_count": 63,
   "id": "9bcab61e-9ea0-4d78-9fe7-823e215bf0d0",
   "metadata": {},
   "outputs": [
    {
     "data": {
      "text/plain": [
       "104743"
      ]
     },
     "execution_count": 63,
     "metadata": {},
     "output_type": "execute_result"
    }
   ],
   "source": [
    "nth_primes(10001)"
   ]
  },
  {
   "cell_type": "code",
   "execution_count": 64,
   "id": "2e0a9fa4-05b3-45ca-bbb8-de813f77ba10",
   "metadata": {},
   "outputs": [],
   "source": [
    "#writing test10\n",
    "def test_n_primes():\n",
    "    assert nth_primes(6) == 13, \"should return 13\"\n",
    "    assert nth_primes(10) == 29, \"should return 29\"\n",
    "    assert nth_primes(100) == 541, \"should return 541\"\n",
    "    assert nth_primes(1000) == 7919, \"should return 7919\"\n",
    "    assert nth_primes(10001) == 104743, \"should return 104743\"\n",
    "    print(\"Everything Passed!!\")"
   ]
  },
  {
   "cell_type": "code",
   "execution_count": 65,
   "id": "0a408a4c-11db-4f2f-a872-2afaf82ce092",
   "metadata": {},
   "outputs": [
    {
     "name": "stdout",
     "output_type": "stream",
     "text": [
      "Everything Passed!!\n"
     ]
    }
   ],
   "source": [
    "test_n_primes()"
   ]
  },
  {
   "cell_type": "code",
   "execution_count": null,
   "id": "ebd7c036-4b6b-43bf-a958-c06650b08d64",
   "metadata": {},
   "outputs": [],
   "source": []
  }
 ],
 "metadata": {
  "kernelspec": {
   "display_name": "Python 3 (ipykernel)",
   "language": "python",
   "name": "python3"
  },
  "language_info": {
   "codemirror_mode": {
    "name": "ipython",
    "version": 3
   },
   "file_extension": ".py",
   "mimetype": "text/x-python",
   "name": "python",
   "nbconvert_exporter": "python",
   "pygments_lexer": "ipython3",
   "version": "3.11.7"
  }
 },
 "nbformat": 4,
 "nbformat_minor": 5
}
