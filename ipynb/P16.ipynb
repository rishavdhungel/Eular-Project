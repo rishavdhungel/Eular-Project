{
 "cells": [
  {
   "cell_type": "markdown",
   "id": "e764aed4-73a9-42c0-932a-ee3462c92095",
   "metadata": {},
   "source": [
    "# Problem 16: Power digit sum\n",
    "2<sup>15</sup> = 32768 and the sum of its digits is 3 + 2 + 7 + 6 + 8 = 26.\n",
    "\n",
    "What is the sum of the digits of the number  2<sup>exponent</sup>  "
   ]
  },
  {
   "cell_type": "code",
   "execution_count": 3,
   "id": "463f2958-7a0d-4bea-ba1c-c4fe90e2f31a",
   "metadata": {
    "tags": []
   },
   "outputs": [],
   "source": [
    "#calculate power \n",
    "def calc_power(power):\n",
    "    return   2 ** power "
   ]
  },
  {
   "cell_type": "code",
   "execution_count": 4,
   "id": "3b2922a1-01b8-4398-b5c5-a3edc3dfa23b",
   "metadata": {
    "tags": []
   },
   "outputs": [
    {
     "data": {
      "text/plain": [
       "32768"
      ]
     },
     "execution_count": 4,
     "metadata": {},
     "output_type": "execute_result"
    }
   ],
   "source": [
    "calc_power(15)"
   ]
  },
  {
   "cell_type": "code",
   "execution_count": 9,
   "id": "296e752b-7f79-4736-b003-f16c4349d3aa",
   "metadata": {
    "tags": []
   },
   "outputs": [],
   "source": [
    "def power_digit_sum(power):\n",
    "    power = str(2 ** power)\n",
    "    total = 0\n",
    "    for num in power:\n",
    "        total += int(num)\n",
    "    return total\n",
    "        \n",
    "    "
   ]
  },
  {
   "cell_type": "code",
   "execution_count": 10,
   "id": "bf40a632-2805-47fb-a2b0-f01190941faa",
   "metadata": {
    "tags": []
   },
   "outputs": [
    {
     "data": {
      "text/plain": [
       "26"
      ]
     },
     "execution_count": 10,
     "metadata": {},
     "output_type": "execute_result"
    }
   ],
   "source": [
    "power_digit_sum(15)"
   ]
  },
  {
   "cell_type": "code",
   "execution_count": 13,
   "id": "13662b37-d603-41ec-b714-c961395338b1",
   "metadata": {
    "tags": []
   },
   "outputs": [],
   "source": [
    "#writing test\n",
    "def test_power_digit_sum():\n",
    "    assert power_digit_sum(15) == 26, \"should return 26\"\n",
    "    assert power_digit_sum(128) == 166, \"should return 166\"\n",
    "    assert power_digit_sum(1000) == 1366, \"should return 1366\"\n",
    "    print(\"Everything Passed!\")"
   ]
  },
  {
   "cell_type": "code",
   "execution_count": 14,
   "id": "d8fe9cea-cd12-43ed-bca5-ad7069b94a1d",
   "metadata": {
    "tags": []
   },
   "outputs": [
    {
     "name": "stdout",
     "output_type": "stream",
     "text": [
      "Everything Passed!\n"
     ]
    }
   ],
   "source": [
    "test_power_digit_sum()"
   ]
  }
 ],
 "metadata": {
  "kernelspec": {
   "display_name": "Python 3 (ipykernel)",
   "language": "python",
   "name": "python3"
  },
  "language_info": {
   "codemirror_mode": {
    "name": "ipython",
    "version": 3
   },
   "file_extension": ".py",
   "mimetype": "text/x-python",
   "name": "python",
   "nbconvert_exporter": "python",
   "pygments_lexer": "ipython3",
   "version": "3.11.5"
  }
 },
 "nbformat": 4,
 "nbformat_minor": 5
}
