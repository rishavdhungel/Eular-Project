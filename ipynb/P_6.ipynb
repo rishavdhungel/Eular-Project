{
 "cells": [
  {
   "cell_type": "markdown",
   "id": "4754d91a-81e1-49ed-a7a2-6bfd59050770",
   "metadata": {},
   "source": [
    "# Problem 6: Sum square difference\n",
    "**Problem Statement**\n",
    "\n",
    "The sum of the squares of the first ten natural numbers is,\n",
    "\n",
    "$$1^2 + 2^2 + ... + 10^2 = 385$$\n",
    "The square of the sum of the first ten natural numbers is,\n",
    "\n",
    "$$(1 + 2 + ... + 10)^2 = 552 = 3025$$\n",
    "Hence the difference between the sum of the squares of the first ten natural numbers and the square of the sum is 3025 − 385 = 2640.\n",
    "\n",
    "Find the difference between the sum of the squares of the first `n` natural numbers and the square of the sum.\n"
   ]
  },
  {
   "cell_type": "markdown",
   "id": "892b03e5-4dd3-40de-b74a-0009ab3e8d17",
   "metadata": {},
   "source": [
    "**Pseudocode**\n",
    "1. initialize the number for the n value\n",
    "2. initialize the counter for the sum of the squares and square of the sum\n",
    "3. iterate over the range and calculate the square of the sum and sum of square by overwriting the counter"
   ]
  },
  {
   "cell_type": "code",
   "execution_count": 25,
   "id": "db918b14-e3ed-4279-a6f7-f1f0229c8ad0",
   "metadata": {},
   "outputs": [],
   "source": [
    "def sum_square_difference(number):\n",
    "    sum_of_squares = 0\n",
    "    square_of_sum = 0\n",
    "    for num in range(number +1):\n",
    "        sum_of_squares += num ** 2\n",
    "        square_of_sum += num\n",
    "    # print(sum_of_squares)\n",
    "    # print(square_of_sum ** 2)\n",
    "    return (square_of_sum **2) - sum_of_squares"
   ]
  },
  {
   "cell_type": "code",
   "execution_count": 26,
   "id": "034b5cf9-92cf-4ce5-8d2c-b3b661fb8fcc",
   "metadata": {},
   "outputs": [
    {
     "data": {
      "text/plain": [
       "2640"
      ]
     },
     "execution_count": 26,
     "metadata": {},
     "output_type": "execute_result"
    }
   ],
   "source": [
    "sum_square_difference(10)"
   ]
  },
  {
   "cell_type": "code",
   "execution_count": 27,
   "id": "a08c26a8-755c-45de-bed7-ce68bbaeb34e",
   "metadata": {},
   "outputs": [],
   "source": [
    "def test_sum_square_difference():\n",
    "    assert sum_square_difference(10) == 2640, \"should equal 2640\"\n",
    "    assert sum_square_difference(20) == 41230, \"should equal 41230\"\n",
    "    assert sum_square_difference(100) == 25164150, \"should equal 25164150\"\n",
    "    print(\"Everything Passed!\")"
   ]
  },
  {
   "cell_type": "code",
   "execution_count": 28,
   "id": "7c5679d5-2b4d-46bf-897c-5d01a4c2a77b",
   "metadata": {},
   "outputs": [
    {
     "name": "stdout",
     "output_type": "stream",
     "text": [
      "Everything Passed!\n"
     ]
    }
   ],
   "source": [
    "test_sum_square_difference()"
   ]
  },
  {
   "cell_type": "code",
   "execution_count": null,
   "id": "5dbbe483-a1f6-4b61-911f-dc7b0ac99d9d",
   "metadata": {},
   "outputs": [],
   "source": []
  }
 ],
 "metadata": {
  "kernelspec": {
   "display_name": "Python 3 (ipykernel)",
   "language": "python",
   "name": "python3"
  },
  "language_info": {
   "codemirror_mode": {
    "name": "ipython",
    "version": 3
   },
   "file_extension": ".py",
   "mimetype": "text/x-python",
   "name": "python",
   "nbconvert_exporter": "python",
   "pygments_lexer": "ipython3",
   "version": "3.11.7"
  }
 },
 "nbformat": 4,
 "nbformat_minor": 5
}
